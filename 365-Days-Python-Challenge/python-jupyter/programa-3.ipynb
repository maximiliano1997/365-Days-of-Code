{
 "cells": [
  {
   "cell_type": "markdown",
   "metadata": {},
   "source": [
    "## Palindrome Words using Python"
   ]
  },
  {
   "cell_type": "code",
   "execution_count": 1,
   "metadata": {},
   "outputs": [
    {
     "name": "stdout",
     "output_type": "stream",
     "text": [
      "['lol']\n"
     ]
    }
   ],
   "source": [
    "def palindrome(sentence):\n",
    "    for i in (\",.'?/}{{{}}'\"):\n",
    "        sentence = sentence.replace(i, \"\")\n",
    "    palindrome = []\n",
    "    words = sentence.split(' ')\n",
    "    for word in words:\n",
    "        word = word.lower()\n",
    "        if word == word[::-1]:\n",
    "            palindrome.append(word)\n",
    "    return palindrome\n",
    "\n",
    "sentenceUser = input('Enter a sentence: ')\n",
    "print(palindrome(sentenceUser))"
   ]
  },
  {
   "cell_type": "code",
   "execution_count": null,
   "metadata": {},
   "outputs": [],
   "source": []
  }
 ],
 "metadata": {
  "kernelspec": {
   "display_name": "Python 3",
   "language": "python",
   "name": "python3"
  },
  "language_info": {
   "codemirror_mode": {
    "name": "ipython",
    "version": 3
   },
   "file_extension": ".py",
   "mimetype": "text/x-python",
   "name": "python",
   "nbconvert_exporter": "python",
   "pygments_lexer": "ipython3",
   "version": "3.11.3"
  },
  "orig_nbformat": 4
 },
 "nbformat": 4,
 "nbformat_minor": 2
}
