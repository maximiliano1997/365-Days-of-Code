{
 "cells": [
  {
   "cell_type": "markdown",
   "metadata": {},
   "source": [
    "## Roman Numbers to Decimals in Python"
   ]
  },
  {
   "cell_type": "code",
   "execution_count": 5,
   "metadata": {},
   "outputs": [
    {
     "name": "stdout",
     "output_type": "stream",
     "text": [
      "XXL\n"
     ]
    },
    {
     "data": {
      "text/plain": [
       "50"
      ]
     },
     "execution_count": 5,
     "metadata": {},
     "output_type": "execute_result"
    }
   ],
   "source": [
    "tallies = {\n",
    "    \"I\": 1,\"V\": 5,\"X\": 10,\"L\": 50,\"C\": 100,\"D\": 500,\"M\": 1000\n",
    "}\n",
    "\n",
    "def RomanNumeralToDecimal(romanNumeral):\n",
    "    sum = 0\n",
    "    for i in range(len(romanNumeral) - 1):\n",
    "        left = romanNumeral[i]\n",
    "        right = romanNumeral[i + 1]\n",
    "        if tallies[left] < tallies[right]:\n",
    "            sum -= tallies[left]\n",
    "        else:\n",
    "            sum += tallies[left]\n",
    "    sum += tallies[romanNumeral[-1]]\n",
    "    return sum\n",
    "\n",
    "roman = input(\"Enter Roman Numbers: \")\n",
    "print(roman) # <-- numero romano\n",
    "RomanNumeralToDecimal(roman) # <-- trad. de romano a numero\n"
   ]
  },
  {
   "cell_type": "code",
   "execution_count": null,
   "metadata": {},
   "outputs": [],
   "source": []
  }
 ],
 "metadata": {
  "kernelspec": {
   "display_name": "Python 3",
   "language": "python",
   "name": "python3"
  },
  "language_info": {
   "codemirror_mode": {
    "name": "ipython",
    "version": 3
   },
   "file_extension": ".py",
   "mimetype": "text/x-python",
   "name": "python",
   "nbconvert_exporter": "python",
   "pygments_lexer": "ipython3",
   "version": "3.11.3"
  },
  "orig_nbformat": 4
 },
 "nbformat": 4,
 "nbformat_minor": 2
}
